{
  "cells": [
    {
      "cell_type": "markdown",
      "id": "e01d1369",
      "metadata": {
        "id": "e01d1369"
      },
      "source": [
        "# SEMANTIC ANALYSIS USING AMAZON REVIEWS DATASET"
      ]
    },
    {
      "cell_type": "markdown",
      "id": "526ec1c2",
      "metadata": {
        "id": "526ec1c2"
      },
      "source": [
        "   # IMPORTING LIBRARIES"
      ]
    },
    {
      "cell_type": "code",
      "source": [
        "pip install keras-tuner"
      ],
      "metadata": {
        "colab": {
          "base_uri": "https://localhost:8080/"
        },
        "id": "JYjTECeuMoti",
        "outputId": "5f1088d3-c590-4d18-aff0-34f18d30f6a2"
      },
      "id": "JYjTECeuMoti",
      "execution_count": 104,
      "outputs": [
        {
          "output_type": "stream",
          "name": "stdout",
          "text": [
            "Collecting keras-tuner\n",
            "  Downloading keras_tuner-1.4.7-py3-none-any.whl (129 kB)\n",
            "\u001b[2K     \u001b[90m━━━━━━━━━━━━━━━━━━━━━━━━━━━━━━━━━━━━━━━━\u001b[0m \u001b[32m129.1/129.1 kB\u001b[0m \u001b[31m2.1 MB/s\u001b[0m eta \u001b[36m0:00:00\u001b[0m\n",
            "\u001b[?25hRequirement already satisfied: keras in /usr/local/lib/python3.10/dist-packages (from keras-tuner) (2.15.0)\n",
            "Requirement already satisfied: packaging in /usr/local/lib/python3.10/dist-packages (from keras-tuner) (24.0)\n",
            "Requirement already satisfied: requests in /usr/local/lib/python3.10/dist-packages (from keras-tuner) (2.31.0)\n",
            "Collecting kt-legacy (from keras-tuner)\n",
            "  Downloading kt_legacy-1.0.5-py3-none-any.whl (9.6 kB)\n",
            "Requirement already satisfied: charset-normalizer<4,>=2 in /usr/local/lib/python3.10/dist-packages (from requests->keras-tuner) (3.3.2)\n",
            "Requirement already satisfied: idna<4,>=2.5 in /usr/local/lib/python3.10/dist-packages (from requests->keras-tuner) (3.7)\n",
            "Requirement already satisfied: urllib3<3,>=1.21.1 in /usr/local/lib/python3.10/dist-packages (from requests->keras-tuner) (2.0.7)\n",
            "Requirement already satisfied: certifi>=2017.4.17 in /usr/local/lib/python3.10/dist-packages (from requests->keras-tuner) (2024.2.2)\n",
            "Installing collected packages: kt-legacy, keras-tuner\n",
            "Successfully installed keras-tuner-1.4.7 kt-legacy-1.0.5\n"
          ]
        }
      ]
    },
    {
      "cell_type": "code",
      "execution_count": 93,
      "id": "b16fa1b5",
      "metadata": {
        "id": "b16fa1b5"
      },
      "outputs": [],
      "source": [
        "import pandas as pd\n",
        "import numpy as np\n",
        "from nltk.corpus import stopwords\n",
        "from nltk.tokenize import word_tokenize\n",
        "from sklearn.model_selection import train_test_split\n",
        "from sklearn.preprocessing import LabelEncoder\n",
        "from sklearn.metrics import classification_report, confusion_matrix\n",
        "from tensorflow.keras.preprocessing.text import Tokenizer\n",
        "from tensorflow.keras.preprocessing.sequence import pad_sequences\n",
        "from tensorflow.keras.models import Sequential\n",
        "from tensorflow.keras.layers import Embedding, LSTM, Dense, Bidirectional\n",
        "from tensorflow.keras.layers import Conv1D, GlobalMaxPooling1D\n",
        "# import matplotlib.pyplot as plt\n",
        "import nltk"
      ]
    },
    {
      "cell_type": "markdown",
      "id": "946228c7",
      "metadata": {
        "id": "946228c7"
      },
      "source": [
        "# DATASET EXPLORATION"
      ]
    },
    {
      "cell_type": "code",
      "execution_count": 4,
      "id": "2b23476e",
      "metadata": {
        "id": "2b23476e"
      },
      "outputs": [],
      "source": [
        "# Load the original dataset\n",
        "df = pd.read_csv('amazon_reviews.csv')\n"
      ]
    },
    {
      "cell_type": "code",
      "execution_count": 5,
      "id": "d3325519",
      "metadata": {
        "colab": {
          "base_uri": "https://localhost:8080/"
        },
        "id": "d3325519",
        "outputId": "72013e90-61f9-428a-810b-57774fb1a501"
      },
      "outputs": [
        {
          "output_type": "stream",
          "name": "stdout",
          "text": [
            "<class 'pandas.core.frame.DataFrame'>\n",
            "RangeIndex: 4915 entries, 0 to 4914\n",
            "Data columns (total 12 columns):\n",
            " #   Column                Non-Null Count  Dtype  \n",
            "---  ------                --------------  -----  \n",
            " 0   Unnamed: 0            4915 non-null   int64  \n",
            " 1   reviewerName          4914 non-null   object \n",
            " 2   overall               4915 non-null   float64\n",
            " 3   reviewText            4914 non-null   object \n",
            " 4   reviewTime            4915 non-null   object \n",
            " 5   day_diff              4915 non-null   int64  \n",
            " 6   helpful_yes           4915 non-null   int64  \n",
            " 7   helpful_no            4915 non-null   int64  \n",
            " 8   total_vote            4915 non-null   int64  \n",
            " 9   score_pos_neg_diff    4915 non-null   int64  \n",
            " 10  score_average_rating  4915 non-null   float64\n",
            " 11  wilson_lower_bound    4915 non-null   float64\n",
            "dtypes: float64(3), int64(6), object(3)\n",
            "memory usage: 460.9+ KB\n"
          ]
        }
      ],
      "source": [
        "df.info()"
      ]
    },
    {
      "cell_type": "code",
      "execution_count": 6,
      "id": "8392ae10",
      "metadata": {
        "colab": {
          "base_uri": "https://localhost:8080/",
          "height": 206
        },
        "id": "8392ae10",
        "outputId": "a585f554-3107-4fa6-c24d-e7fbae03476b"
      },
      "outputs": [
        {
          "output_type": "execute_result",
          "data": {
            "text/plain": [
              "   Unnamed: 0  reviewerName  overall  \\\n",
              "0           0           NaN      4.0   \n",
              "1           1          0mie      5.0   \n",
              "2           2           1K3      4.0   \n",
              "3           3           1m2      5.0   \n",
              "4           4  2&amp;1/2Men      5.0   \n",
              "\n",
              "                                          reviewText  reviewTime  day_diff  \\\n",
              "0                                         No issues.  2014-07-23       138   \n",
              "1  Purchased this for my device, it worked as adv...  2013-10-25       409   \n",
              "2  it works as expected. I should have sprung for...  2012-12-23       715   \n",
              "3  This think has worked out great.Had a diff. br...  2013-11-21       382   \n",
              "4  Bought it with Retail Packaging, arrived legit...  2013-07-13       513   \n",
              "\n",
              "   helpful_yes  helpful_no  total_vote  score_pos_neg_diff  \\\n",
              "0            0           0           0                   0   \n",
              "1            0           0           0                   0   \n",
              "2            0           0           0                   0   \n",
              "3            0           0           0                   0   \n",
              "4            0           0           0                   0   \n",
              "\n",
              "   score_average_rating  wilson_lower_bound  \n",
              "0                   0.0                 0.0  \n",
              "1                   0.0                 0.0  \n",
              "2                   0.0                 0.0  \n",
              "3                   0.0                 0.0  \n",
              "4                   0.0                 0.0  "
            ],
            "text/html": [
              "\n",
              "  <div id=\"df-41db7761-e05c-4e0c-8e84-f23e5bce5317\" class=\"colab-df-container\">\n",
              "    <div>\n",
              "<style scoped>\n",
              "    .dataframe tbody tr th:only-of-type {\n",
              "        vertical-align: middle;\n",
              "    }\n",
              "\n",
              "    .dataframe tbody tr th {\n",
              "        vertical-align: top;\n",
              "    }\n",
              "\n",
              "    .dataframe thead th {\n",
              "        text-align: right;\n",
              "    }\n",
              "</style>\n",
              "<table border=\"1\" class=\"dataframe\">\n",
              "  <thead>\n",
              "    <tr style=\"text-align: right;\">\n",
              "      <th></th>\n",
              "      <th>Unnamed: 0</th>\n",
              "      <th>reviewerName</th>\n",
              "      <th>overall</th>\n",
              "      <th>reviewText</th>\n",
              "      <th>reviewTime</th>\n",
              "      <th>day_diff</th>\n",
              "      <th>helpful_yes</th>\n",
              "      <th>helpful_no</th>\n",
              "      <th>total_vote</th>\n",
              "      <th>score_pos_neg_diff</th>\n",
              "      <th>score_average_rating</th>\n",
              "      <th>wilson_lower_bound</th>\n",
              "    </tr>\n",
              "  </thead>\n",
              "  <tbody>\n",
              "    <tr>\n",
              "      <th>0</th>\n",
              "      <td>0</td>\n",
              "      <td>NaN</td>\n",
              "      <td>4.0</td>\n",
              "      <td>No issues.</td>\n",
              "      <td>2014-07-23</td>\n",
              "      <td>138</td>\n",
              "      <td>0</td>\n",
              "      <td>0</td>\n",
              "      <td>0</td>\n",
              "      <td>0</td>\n",
              "      <td>0.0</td>\n",
              "      <td>0.0</td>\n",
              "    </tr>\n",
              "    <tr>\n",
              "      <th>1</th>\n",
              "      <td>1</td>\n",
              "      <td>0mie</td>\n",
              "      <td>5.0</td>\n",
              "      <td>Purchased this for my device, it worked as adv...</td>\n",
              "      <td>2013-10-25</td>\n",
              "      <td>409</td>\n",
              "      <td>0</td>\n",
              "      <td>0</td>\n",
              "      <td>0</td>\n",
              "      <td>0</td>\n",
              "      <td>0.0</td>\n",
              "      <td>0.0</td>\n",
              "    </tr>\n",
              "    <tr>\n",
              "      <th>2</th>\n",
              "      <td>2</td>\n",
              "      <td>1K3</td>\n",
              "      <td>4.0</td>\n",
              "      <td>it works as expected. I should have sprung for...</td>\n",
              "      <td>2012-12-23</td>\n",
              "      <td>715</td>\n",
              "      <td>0</td>\n",
              "      <td>0</td>\n",
              "      <td>0</td>\n",
              "      <td>0</td>\n",
              "      <td>0.0</td>\n",
              "      <td>0.0</td>\n",
              "    </tr>\n",
              "    <tr>\n",
              "      <th>3</th>\n",
              "      <td>3</td>\n",
              "      <td>1m2</td>\n",
              "      <td>5.0</td>\n",
              "      <td>This think has worked out great.Had a diff. br...</td>\n",
              "      <td>2013-11-21</td>\n",
              "      <td>382</td>\n",
              "      <td>0</td>\n",
              "      <td>0</td>\n",
              "      <td>0</td>\n",
              "      <td>0</td>\n",
              "      <td>0.0</td>\n",
              "      <td>0.0</td>\n",
              "    </tr>\n",
              "    <tr>\n",
              "      <th>4</th>\n",
              "      <td>4</td>\n",
              "      <td>2&amp;amp;1/2Men</td>\n",
              "      <td>5.0</td>\n",
              "      <td>Bought it with Retail Packaging, arrived legit...</td>\n",
              "      <td>2013-07-13</td>\n",
              "      <td>513</td>\n",
              "      <td>0</td>\n",
              "      <td>0</td>\n",
              "      <td>0</td>\n",
              "      <td>0</td>\n",
              "      <td>0.0</td>\n",
              "      <td>0.0</td>\n",
              "    </tr>\n",
              "  </tbody>\n",
              "</table>\n",
              "</div>\n",
              "    <div class=\"colab-df-buttons\">\n",
              "\n",
              "  <div class=\"colab-df-container\">\n",
              "    <button class=\"colab-df-convert\" onclick=\"convertToInteractive('df-41db7761-e05c-4e0c-8e84-f23e5bce5317')\"\n",
              "            title=\"Convert this dataframe to an interactive table.\"\n",
              "            style=\"display:none;\">\n",
              "\n",
              "  <svg xmlns=\"http://www.w3.org/2000/svg\" height=\"24px\" viewBox=\"0 -960 960 960\">\n",
              "    <path d=\"M120-120v-720h720v720H120Zm60-500h600v-160H180v160Zm220 220h160v-160H400v160Zm0 220h160v-160H400v160ZM180-400h160v-160H180v160Zm440 0h160v-160H620v160ZM180-180h160v-160H180v160Zm440 0h160v-160H620v160Z\"/>\n",
              "  </svg>\n",
              "    </button>\n",
              "\n",
              "  <style>\n",
              "    .colab-df-container {\n",
              "      display:flex;\n",
              "      gap: 12px;\n",
              "    }\n",
              "\n",
              "    .colab-df-convert {\n",
              "      background-color: #E8F0FE;\n",
              "      border: none;\n",
              "      border-radius: 50%;\n",
              "      cursor: pointer;\n",
              "      display: none;\n",
              "      fill: #1967D2;\n",
              "      height: 32px;\n",
              "      padding: 0 0 0 0;\n",
              "      width: 32px;\n",
              "    }\n",
              "\n",
              "    .colab-df-convert:hover {\n",
              "      background-color: #E2EBFA;\n",
              "      box-shadow: 0px 1px 2px rgba(60, 64, 67, 0.3), 0px 1px 3px 1px rgba(60, 64, 67, 0.15);\n",
              "      fill: #174EA6;\n",
              "    }\n",
              "\n",
              "    .colab-df-buttons div {\n",
              "      margin-bottom: 4px;\n",
              "    }\n",
              "\n",
              "    [theme=dark] .colab-df-convert {\n",
              "      background-color: #3B4455;\n",
              "      fill: #D2E3FC;\n",
              "    }\n",
              "\n",
              "    [theme=dark] .colab-df-convert:hover {\n",
              "      background-color: #434B5C;\n",
              "      box-shadow: 0px 1px 3px 1px rgba(0, 0, 0, 0.15);\n",
              "      filter: drop-shadow(0px 1px 2px rgba(0, 0, 0, 0.3));\n",
              "      fill: #FFFFFF;\n",
              "    }\n",
              "  </style>\n",
              "\n",
              "    <script>\n",
              "      const buttonEl =\n",
              "        document.querySelector('#df-41db7761-e05c-4e0c-8e84-f23e5bce5317 button.colab-df-convert');\n",
              "      buttonEl.style.display =\n",
              "        google.colab.kernel.accessAllowed ? 'block' : 'none';\n",
              "\n",
              "      async function convertToInteractive(key) {\n",
              "        const element = document.querySelector('#df-41db7761-e05c-4e0c-8e84-f23e5bce5317');\n",
              "        const dataTable =\n",
              "          await google.colab.kernel.invokeFunction('convertToInteractive',\n",
              "                                                    [key], {});\n",
              "        if (!dataTable) return;\n",
              "\n",
              "        const docLinkHtml = 'Like what you see? Visit the ' +\n",
              "          '<a target=\"_blank\" href=https://colab.research.google.com/notebooks/data_table.ipynb>data table notebook</a>'\n",
              "          + ' to learn more about interactive tables.';\n",
              "        element.innerHTML = '';\n",
              "        dataTable['output_type'] = 'display_data';\n",
              "        await google.colab.output.renderOutput(dataTable, element);\n",
              "        const docLink = document.createElement('div');\n",
              "        docLink.innerHTML = docLinkHtml;\n",
              "        element.appendChild(docLink);\n",
              "      }\n",
              "    </script>\n",
              "  </div>\n",
              "\n",
              "\n",
              "<div id=\"df-c9045927-d9da-4113-b827-c8468b1669dd\">\n",
              "  <button class=\"colab-df-quickchart\" onclick=\"quickchart('df-c9045927-d9da-4113-b827-c8468b1669dd')\"\n",
              "            title=\"Suggest charts\"\n",
              "            style=\"display:none;\">\n",
              "\n",
              "<svg xmlns=\"http://www.w3.org/2000/svg\" height=\"24px\"viewBox=\"0 0 24 24\"\n",
              "     width=\"24px\">\n",
              "    <g>\n",
              "        <path d=\"M19 3H5c-1.1 0-2 .9-2 2v14c0 1.1.9 2 2 2h14c1.1 0 2-.9 2-2V5c0-1.1-.9-2-2-2zM9 17H7v-7h2v7zm4 0h-2V7h2v10zm4 0h-2v-4h2v4z\"/>\n",
              "    </g>\n",
              "</svg>\n",
              "  </button>\n",
              "\n",
              "<style>\n",
              "  .colab-df-quickchart {\n",
              "      --bg-color: #E8F0FE;\n",
              "      --fill-color: #1967D2;\n",
              "      --hover-bg-color: #E2EBFA;\n",
              "      --hover-fill-color: #174EA6;\n",
              "      --disabled-fill-color: #AAA;\n",
              "      --disabled-bg-color: #DDD;\n",
              "  }\n",
              "\n",
              "  [theme=dark] .colab-df-quickchart {\n",
              "      --bg-color: #3B4455;\n",
              "      --fill-color: #D2E3FC;\n",
              "      --hover-bg-color: #434B5C;\n",
              "      --hover-fill-color: #FFFFFF;\n",
              "      --disabled-bg-color: #3B4455;\n",
              "      --disabled-fill-color: #666;\n",
              "  }\n",
              "\n",
              "  .colab-df-quickchart {\n",
              "    background-color: var(--bg-color);\n",
              "    border: none;\n",
              "    border-radius: 50%;\n",
              "    cursor: pointer;\n",
              "    display: none;\n",
              "    fill: var(--fill-color);\n",
              "    height: 32px;\n",
              "    padding: 0;\n",
              "    width: 32px;\n",
              "  }\n",
              "\n",
              "  .colab-df-quickchart:hover {\n",
              "    background-color: var(--hover-bg-color);\n",
              "    box-shadow: 0 1px 2px rgba(60, 64, 67, 0.3), 0 1px 3px 1px rgba(60, 64, 67, 0.15);\n",
              "    fill: var(--button-hover-fill-color);\n",
              "  }\n",
              "\n",
              "  .colab-df-quickchart-complete:disabled,\n",
              "  .colab-df-quickchart-complete:disabled:hover {\n",
              "    background-color: var(--disabled-bg-color);\n",
              "    fill: var(--disabled-fill-color);\n",
              "    box-shadow: none;\n",
              "  }\n",
              "\n",
              "  .colab-df-spinner {\n",
              "    border: 2px solid var(--fill-color);\n",
              "    border-color: transparent;\n",
              "    border-bottom-color: var(--fill-color);\n",
              "    animation:\n",
              "      spin 1s steps(1) infinite;\n",
              "  }\n",
              "\n",
              "  @keyframes spin {\n",
              "    0% {\n",
              "      border-color: transparent;\n",
              "      border-bottom-color: var(--fill-color);\n",
              "      border-left-color: var(--fill-color);\n",
              "    }\n",
              "    20% {\n",
              "      border-color: transparent;\n",
              "      border-left-color: var(--fill-color);\n",
              "      border-top-color: var(--fill-color);\n",
              "    }\n",
              "    30% {\n",
              "      border-color: transparent;\n",
              "      border-left-color: var(--fill-color);\n",
              "      border-top-color: var(--fill-color);\n",
              "      border-right-color: var(--fill-color);\n",
              "    }\n",
              "    40% {\n",
              "      border-color: transparent;\n",
              "      border-right-color: var(--fill-color);\n",
              "      border-top-color: var(--fill-color);\n",
              "    }\n",
              "    60% {\n",
              "      border-color: transparent;\n",
              "      border-right-color: var(--fill-color);\n",
              "    }\n",
              "    80% {\n",
              "      border-color: transparent;\n",
              "      border-right-color: var(--fill-color);\n",
              "      border-bottom-color: var(--fill-color);\n",
              "    }\n",
              "    90% {\n",
              "      border-color: transparent;\n",
              "      border-bottom-color: var(--fill-color);\n",
              "    }\n",
              "  }\n",
              "</style>\n",
              "\n",
              "  <script>\n",
              "    async function quickchart(key) {\n",
              "      const quickchartButtonEl =\n",
              "        document.querySelector('#' + key + ' button');\n",
              "      quickchartButtonEl.disabled = true;  // To prevent multiple clicks.\n",
              "      quickchartButtonEl.classList.add('colab-df-spinner');\n",
              "      try {\n",
              "        const charts = await google.colab.kernel.invokeFunction(\n",
              "            'suggestCharts', [key], {});\n",
              "      } catch (error) {\n",
              "        console.error('Error during call to suggestCharts:', error);\n",
              "      }\n",
              "      quickchartButtonEl.classList.remove('colab-df-spinner');\n",
              "      quickchartButtonEl.classList.add('colab-df-quickchart-complete');\n",
              "    }\n",
              "    (() => {\n",
              "      let quickchartButtonEl =\n",
              "        document.querySelector('#df-c9045927-d9da-4113-b827-c8468b1669dd button');\n",
              "      quickchartButtonEl.style.display =\n",
              "        google.colab.kernel.accessAllowed ? 'block' : 'none';\n",
              "    })();\n",
              "  </script>\n",
              "</div>\n",
              "\n",
              "    </div>\n",
              "  </div>\n"
            ],
            "application/vnd.google.colaboratory.intrinsic+json": {
              "type": "dataframe",
              "variable_name": "df",
              "summary": "{\n  \"name\": \"df\",\n  \"rows\": 4915,\n  \"fields\": [\n    {\n      \"column\": \"Unnamed: 0\",\n      \"properties\": {\n        \"dtype\": \"number\",\n        \"std\": 1418,\n        \"min\": 0,\n        \"max\": 4914,\n        \"num_unique_values\": 4915,\n        \"samples\": [\n          2346,\n          4344,\n          691\n        ],\n        \"semantic_type\": \"\",\n        \"description\": \"\"\n      }\n    },\n    {\n      \"column\": \"reviewerName\",\n      \"properties\": {\n        \"dtype\": \"string\",\n        \"num_unique_values\": 4594,\n        \"samples\": [\n          \"nta699\",\n          \"Maximus\",\n          \"G. Jackson\"\n        ],\n        \"semantic_type\": \"\",\n        \"description\": \"\"\n      }\n    },\n    {\n      \"column\": \"overall\",\n      \"properties\": {\n        \"dtype\": \"number\",\n        \"std\": 0.9968451383820338,\n        \"min\": 1.0,\n        \"max\": 5.0,\n        \"num_unique_values\": 5,\n        \"samples\": [\n          5.0,\n          2.0,\n          3.0\n        ],\n        \"semantic_type\": \"\",\n        \"description\": \"\"\n      }\n    },\n    {\n      \"column\": \"reviewText\",\n      \"properties\": {\n        \"dtype\": \"string\",\n        \"num_unique_values\": 4912,\n        \"samples\": [\n          \"Bought this for extended memory in a Galaxy S III.  Great price. Easy to install and the phone recognized it instantly. Does what its supposed to do.\",\n          \"I bought this after I found out that you can add a memory card to the Samsung galaxy s4! I never even knew that you could, and so once I found out I bought this and installed it. It's worked perfectly since and holds all of my songs and videos.  Great buy!\",\n          \"Using it on a Canon 6D. No camplains at all. Really fast access. The adapter itself is not at same level, even though. Bad connection, had to use a previous adapter that I already had.\"\n        ],\n        \"semantic_type\": \"\",\n        \"description\": \"\"\n      }\n    },\n    {\n      \"column\": \"reviewTime\",\n      \"properties\": {\n        \"dtype\": \"object\",\n        \"num_unique_values\": 690,\n        \"samples\": [\n          \"2013-03-12\",\n          \"2013-09-10\",\n          \"2012-12-09\"\n        ],\n        \"semantic_type\": \"\",\n        \"description\": \"\"\n      }\n    },\n    {\n      \"column\": \"day_diff\",\n      \"properties\": {\n        \"dtype\": \"number\",\n        \"std\": 209,\n        \"min\": 1,\n        \"max\": 1064,\n        \"num_unique_values\": 690,\n        \"samples\": [\n          636,\n          454,\n          729\n        ],\n        \"semantic_type\": \"\",\n        \"description\": \"\"\n      }\n    },\n    {\n      \"column\": \"helpful_yes\",\n      \"properties\": {\n        \"dtype\": \"number\",\n        \"std\": 41,\n        \"min\": 0,\n        \"max\": 1952,\n        \"num_unique_values\": 23,\n        \"samples\": [\n          1428,\n          6,\n          0\n        ],\n        \"semantic_type\": \"\",\n        \"description\": \"\"\n      }\n    },\n    {\n      \"column\": \"helpful_no\",\n      \"properties\": {\n        \"dtype\": \"number\",\n        \"std\": 4,\n        \"min\": 0,\n        \"max\": 183,\n        \"num_unique_values\": 17,\n        \"samples\": [\n          0,\n          1,\n          10\n        ],\n        \"semantic_type\": \"\",\n        \"description\": \"\"\n      }\n    },\n    {\n      \"column\": \"total_vote\",\n      \"properties\": {\n        \"dtype\": \"number\",\n        \"std\": 44,\n        \"min\": 0,\n        \"max\": 2020,\n        \"num_unique_values\": 26,\n        \"samples\": [\n          495,\n          1505,\n          0\n        ],\n        \"semantic_type\": \"\",\n        \"description\": \"\"\n      }\n    },\n    {\n      \"column\": \"score_pos_neg_diff\",\n      \"properties\": {\n        \"dtype\": \"number\",\n        \"std\": 39,\n        \"min\": -130,\n        \"max\": 1884,\n        \"num_unique_values\": 27,\n        \"samples\": [\n          -2,\n          52,\n          -3\n        ],\n        \"semantic_type\": \"\",\n        \"description\": \"\"\n      }\n    },\n    {\n      \"column\": \"score_average_rating\",\n      \"properties\": {\n        \"dtype\": \"number\",\n        \"std\": 0.25606237802879933,\n        \"min\": 0.0,\n        \"max\": 1.0,\n        \"num_unique_values\": 28,\n        \"samples\": [\n          0.3333333333333333,\n          0.3076923076923077,\n          0.8571428571428571\n        ],\n        \"semantic_type\": \"\",\n        \"description\": \"\"\n      }\n    },\n    {\n      \"column\": \"wilson_lower_bound\",\n      \"properties\": {\n        \"dtype\": \"number\",\n        \"std\": 0.0771874411204749,\n        \"min\": 0.0,\n        \"max\": 0.9575439475520824,\n        \"num_unique_values\": 40,\n        \"samples\": [\n          0.6456695649333126,\n          0.4364971778135299,\n          0.3755346297625253\n        ],\n        \"semantic_type\": \"\",\n        \"description\": \"\"\n      }\n    }\n  ]\n}"
            }
          },
          "metadata": {},
          "execution_count": 6
        }
      ],
      "source": [
        "df.head()"
      ]
    },
    {
      "cell_type": "code",
      "execution_count": 7,
      "id": "cd09c177",
      "metadata": {
        "colab": {
          "base_uri": "https://localhost:8080/"
        },
        "id": "cd09c177",
        "outputId": "00352bbf-e94b-4091-afef-c1c3b90d3b45"
      },
      "outputs": [
        {
          "output_type": "execute_result",
          "data": {
            "text/plain": [
              "Unnamed: 0              0\n",
              "reviewerName            1\n",
              "overall                 0\n",
              "reviewText              1\n",
              "reviewTime              0\n",
              "day_diff                0\n",
              "helpful_yes             0\n",
              "helpful_no              0\n",
              "total_vote              0\n",
              "score_pos_neg_diff      0\n",
              "score_average_rating    0\n",
              "wilson_lower_bound      0\n",
              "dtype: int64"
            ]
          },
          "metadata": {},
          "execution_count": 7
        }
      ],
      "source": [
        "df.isnull().sum()"
      ]
    },
    {
      "cell_type": "markdown",
      "source": [
        "# **EDA**"
      ],
      "metadata": {
        "id": "LkY6IePB_oGw"
      },
      "id": "LkY6IePB_oGw"
    },
    {
      "cell_type": "code",
      "source": [
        "import matplotlib.pyplot as plt\n",
        "from wordcloud import WordCloud"
      ],
      "metadata": {
        "id": "TFmq0bje_nTd"
      },
      "id": "TFmq0bje_nTd",
      "execution_count": 8,
      "outputs": []
    },
    {
      "cell_type": "code",
      "source": [
        "# Reviewer Analysis\n",
        "reviewer_counts = df['reviewerName'].value_counts().head(10)\n",
        "plt.bar(reviewer_counts.index, reviewer_counts.values, color='blue')\n",
        "plt.title('Top 10 Reviewers')\n",
        "plt.xlabel('Reviewer Name')\n",
        "plt.ylabel('Number of Reviews')\n",
        "plt.xticks(rotation=45, ha='right')\n",
        "plt.show()"
      ],
      "metadata": {
        "colab": {
          "base_uri": "https://localhost:8080/",
          "height": 558
        },
        "id": "Xpb-Cjfj_nWT",
        "outputId": "ef3a01ac-dbd1-42fc-b142-28793f66b3c3"
      },
      "id": "Xpb-Cjfj_nWT",
      "execution_count": 10,
      "outputs": [
        {
          "output_type": "display_data",
          "data": {
            "text/plain": [
              "<Figure size 640x480 with 1 Axes>"
            ],
            "image/png": "[encoded data removed]"
          },
          "metadata": {}
        }
      ]
    },
    {
      "cell_type": "code",
      "source": [
        "# Review Time Analysis\n",
        "df['reviewTime'] = pd.to_datetime(df['reviewTime'])\n",
        "df['reviewYear'] = df['reviewTime'].dt.year\n",
        "review_year_counts = df['reviewYear'].value_counts().sort_index()\n",
        "plt.plot(review_year_counts.index, review_year_counts.values, marker='o', color='green')\n",
        "plt.title('Number of Reviews Over Time')\n",
        "plt.xlabel('Year')\n",
        "plt.ylabel('Number of Reviews')\n",
        "plt.xticks(rotation=45)\n",
        "plt.grid(True)\n",
        "plt.show()"
      ],
      "metadata": {
        "colab": {
          "base_uri": "https://localhost:8080/",
          "height": 508
        },
        "id": "-DukdT27_nY1",
        "outputId": "1051b68f-24e3-4652-fbcd-6da7b7f618f4"
      },
      "id": "-DukdT27_nY1",
      "execution_count": 11,
      "outputs": [
        {
          "output_type": "display_data",
          "data": {
            "text/plain": [
              "<Figure size 640x480 with 1 Axes>"
            ],
            "image/png": "[encoded data removed]"
          },
          "metadata": {}
        }
      ]
    },
    {
      "cell_type": "code",
      "source": [
        "# Helpfulness Analysis\n",
        "plt.scatter(df['helpful_yes'], df['helpful_no'], color='orange', alpha=0.5)\n",
        "plt.title('Helpfulness of Reviews')\n",
        "plt.xlabel('Number of Helpful Votes')\n",
        "plt.ylabel('Number of Not Helpful Votes')\n",
        "plt.show()"
      ],
      "metadata": {
        "colab": {
          "base_uri": "https://localhost:8080/",
          "height": 472
        },
        "id": "FWU-_L1h_nbg",
        "outputId": "012a3df1-6caa-47b5-ffd7-2b31806990bd"
      },
      "id": "FWU-_L1h_nbg",
      "execution_count": 12,
      "outputs": [
        {
          "output_type": "display_data",
          "data": {
            "text/plain": [
              "<Figure size 640x480 with 1 Axes>"
            ],
            "image/png": "[encoded data removed]"
          },
          "metadata": {}
        }
      ]
    },
    {
      "cell_type": "code",
      "source": [
        "# Rating Distribution\n",
        "rating_counts = df['overall'].value_counts().sort_index()\n",
        "plt.bar(rating_counts.index, rating_counts.values, color='purple')\n",
        "plt.title('Rating Distribution')\n",
        "plt.xlabel('Rating')\n",
        "plt.ylabel('Count')\n",
        "plt.xticks(np.arange(1, 6))\n",
        "plt.show()\n"
      ],
      "metadata": {
        "colab": {
          "base_uri": "https://localhost:8080/",
          "height": 472
        },
        "id": "CMceoNbs_neJ",
        "outputId": "e88cdb41-b66c-43bb-d12c-b135a5d76c24"
      },
      "id": "CMceoNbs_neJ",
      "execution_count": 14,
      "outputs": [
        {
          "output_type": "display_data",
          "data": {
            "text/plain": [
              "<Figure size 640x480 with 1 Axes>"
            ],
            "image/png": "[encoded data removed]"
          },
          "metadata": {}
        }
      ]
    },
    {
      "cell_type": "code",
      "source": [
        "# Helpfulness Ratio\n",
        "df['helpfulness_ratio'] = df['helpful_yes'] / (df['helpful_yes'] + df['helpful_no'])\n",
        "plt.hist(df['helpfulness_ratio'].dropna(), bins=20, color='pink', edgecolor='black')\n",
        "plt.title('Helpfulness Ratio Distribution')\n",
        "plt.xlabel('Helpfulness Ratio')\n",
        "plt.ylabel('Count')\n",
        "plt.show()"
      ],
      "metadata": {
        "colab": {
          "base_uri": "https://localhost:8080/",
          "height": 472
        },
        "id": "zb151NWo_ng3",
        "outputId": "0843b3eb-6021-456c-cae4-b767a0033ab7"
      },
      "id": "zb151NWo_ng3",
      "execution_count": 15,
      "outputs": [
        {
          "output_type": "display_data",
          "data": {
            "text/plain": [
              "<Figure size 640x480 with 1 Axes>"
            ],
            "image/png": "[encoded data removed]"
          },
          "metadata": {}
        }
      ]
    },
    {
      "cell_type": "code",
      "source": [
        "# Calculate the length of each review text\n",
        "df['reviewLength'] = df['reviewText'].apply(lambda x: len(str(x).split()))\n",
        "\n",
        "# Correlation Analysis\n",
        "correlation_cols = ['overall', 'day_diff', 'helpful_yes', 'helpful_no', 'reviewLength']\n",
        "correlation_matrix = df[correlation_cols].corr()\n",
        "\n",
        "# Plotting the correlation matrix\n",
        "plt.figure(figsize=(8, 6))\n",
        "sns.heatmap(correlation_matrix, annot=True, cmap='coolwarm', fmt=\".2f\")\n",
        "plt.title('Correlation Matrix')\n",
        "plt.show()"
      ],
      "metadata": {
        "colab": {
          "base_uri": "https://localhost:8080/",
          "height": 545
        },
        "id": "nc7rZgp-AvLb",
        "outputId": "5959a0a5-f4b6-4ba8-ccdc-87e3fc3a716a"
      },
      "id": "nc7rZgp-AvLb",
      "execution_count": 20,
      "outputs": [
        {
          "output_type": "display_data",
          "data": {
            "text/plain": [
              "<Figure size 800x600 with 2 Axes>"
            ],
            "image/png": "[encoded data removed]"
          },
          "metadata": {}
        }
      ]
    },
    {
      "cell_type": "code",
      "source": [
        "# Barplot of Average Review Length by Rating\n",
        "average_review_length = df.groupby('overall')['reviewLength'].mean()\n",
        "plt.figure(figsize=(8, 6))\n",
        "plt.bar(average_review_length.index, average_review_length.values, color='lightcoral')\n",
        "plt.title('Average Review Length by Rating')\n",
        "plt.xlabel('Rating')\n",
        "plt.ylabel('Average Review Length')\n",
        "plt.xticks(np.arange(1, 6))\n",
        "plt.grid(True)\n",
        "plt.show()"
      ],
      "metadata": {
        "colab": {
          "base_uri": "https://localhost:8080/",
          "height": 564
        },
        "id": "klfuzkxuAvOL",
        "outputId": "8509b198-cf4a-4976-988c-6b35fb9bf395"
      },
      "id": "klfuzkxuAvOL",
      "execution_count": 23,
      "outputs": [
        {
          "output_type": "display_data",
          "data": {
            "text/plain": [
              "<Figure size 800x600 with 1 Axes>"
            ],
            "image/png": "[encoded data removed]"
          },
          "metadata": {}
        }
      ]
    },
    {
      "cell_type": "markdown",
      "id": "afb659ed",
      "metadata": {
        "id": "afb659ed"
      },
      "source": [
        "# PREPROCESSING"
      ]
    },
    {
      "cell_type": "code",
      "source": [
        "nltk.download('stopwords')"
      ],
      "metadata": {
        "colab": {
          "base_uri": "https://localhost:8080/"
        },
        "id": "MJrwFEZ1C7vH",
        "outputId": "8de073cd-8c74-48d6-cd30-28d522b73f27"
      },
      "id": "MJrwFEZ1C7vH",
      "execution_count": 32,
      "outputs": [
        {
          "output_type": "stream",
          "name": "stderr",
          "text": [
            "[nltk_data] Downloading package stopwords to /root/nltk_data...\n",
            "[nltk_data]   Unzipping corpora/stopwords.zip.\n"
          ]
        },
        {
          "output_type": "execute_result",
          "data": {
            "text/plain": [
              "True"
            ]
          },
          "metadata": {},
          "execution_count": 32
        }
      ]
    },
    {
      "cell_type": "code",
      "source": [
        "nltk.download('punkt')"
      ],
      "metadata": {
        "colab": {
          "base_uri": "https://localhost:8080/"
        },
        "id": "hy2yHVh8DAnI",
        "outputId": "e10da042-8803-4120-ad31-a84b339c56ed"
      },
      "id": "hy2yHVh8DAnI",
      "execution_count": 37,
      "outputs": [
        {
          "output_type": "stream",
          "name": "stderr",
          "text": [
            "[nltk_data] Downloading package punkt to /root/nltk_data...\n",
            "[nltk_data]   Unzipping tokenizers/punkt.zip.\n"
          ]
        },
        {
          "output_type": "execute_result",
          "data": {
            "text/plain": [
              "True"
            ]
          },
          "metadata": {},
          "execution_count": 37
        }
      ]
    },
    {
      "cell_type": "code",
      "execution_count": 38,
      "id": "b00e1414",
      "metadata": {
        "id": "b00e1414"
      },
      "outputs": [],
      "source": [
        "# Keep only relevant columns\n",
        "df = df[['reviewText', 'overall']]\n"
      ]
    },
    {
      "cell_type": "code",
      "execution_count": 39,
      "id": "67c7ed8b",
      "metadata": {
        "id": "67c7ed8b"
      },
      "outputs": [],
      "source": [
        "# Preprocess text\n",
        "stop_words = set(stopwords.words('english'))"
      ]
    },
    {
      "cell_type": "code",
      "execution_count": 40,
      "id": "1b632e1d",
      "metadata": {
        "id": "1b632e1d"
      },
      "outputs": [],
      "source": [
        "stop_words = set(stopwords.words('english'))\n",
        "def preprocess_text(text):\n",
        "    # Convert to lowercase\n",
        "    text = text.lower()\n",
        "    # Tokenization\n",
        "    tokens = word_tokenize(text)\n",
        "    # Remove stopwords\n",
        "    tokens = [word for word in tokens if word.isalpha() and word not in stop_words]\n",
        "    # Join tokens back to text\n",
        "    return ' '.join(tokens)\n"
      ]
    },
    {
      "cell_type": "code",
      "execution_count": 41,
      "id": "7eda0130",
      "metadata": {
        "id": "7eda0130"
      },
      "outputs": [],
      "source": [
        "# Apply preprocessing to reviewText\n",
        "df['cleaned_reviewText'] = df['reviewText'].apply(lambda x: preprocess_text(x) if pd.notnull(x) else '')\n"
      ]
    },
    {
      "cell_type": "code",
      "execution_count": 42,
      "id": "367b48b6",
      "metadata": {
        "id": "367b48b6"
      },
      "outputs": [],
      "source": [
        "# Replace NaN values with empty strings in the cleaned_reviewText column\n",
        "df['cleaned_reviewText'] = df['cleaned_reviewText'].fillna('')"
      ]
    },
    {
      "cell_type": "code",
      "execution_count": 43,
      "id": "053886d0",
      "metadata": {
        "id": "053886d0"
      },
      "outputs": [],
      "source": [
        "# Create sentiment column\n",
        "def label_sentiment(rating):\n",
        "    if rating in [1, 2]:\n",
        "        return 'negative'\n",
        "    elif rating == 3:\n",
        "        return 'neutral'\n",
        "    else:\n",
        "        return 'positive'"
      ]
    },
    {
      "cell_type": "code",
      "execution_count": 44,
      "id": "f5d583d8",
      "metadata": {
        "id": "f5d583d8"
      },
      "outputs": [],
      "source": [
        "df['sentiment'] = df['overall'].apply(label_sentiment)"
      ]
    },
    {
      "cell_type": "code",
      "execution_count": 45,
      "id": "0fa5b64a",
      "metadata": {
        "id": "0fa5b64a"
      },
      "outputs": [],
      "source": [
        "# Save the preprocessed data to a new CSV file\n",
        "df[['cleaned_reviewText', 'sentiment']].to_csv('preprocessed_amazon_reviews.csv', index=False)"
      ]
    },
    {
      "cell_type": "code",
      "execution_count": 46,
      "id": "249e006d",
      "metadata": {
        "colab": {
          "base_uri": "https://localhost:8080/",
          "height": 472
        },
        "id": "249e006d",
        "outputId": "506b9c89-f8db-48d3-fb67-f372c4b3a249"
      },
      "outputs": [
        {
          "output_type": "display_data",
          "data": {
            "text/plain": [
              "<Figure size 640x480 with 1 Axes>"
            ],
            "image/png": "[encoded data removed]"
          },
          "metadata": {}
        }
      ],
      "source": [
        "df['sentiment'] = df['overall'].map({1: 'negative', 2: 'negative', 3: 'neutral', 4: 'positive', 5: 'positive'})\n",
        "sentiment_counts = df['sentiment'].value_counts()\n",
        "plt.bar(sentiment_counts.index, sentiment_counts.values, color=['green', 'red'])\n",
        "plt.title('Class Distribution')\n",
        "plt.xlabel('Sentiment')\n",
        "plt.ylabel('Count')\n",
        "plt.show()"
      ]
    },
    {
      "cell_type": "markdown",
      "id": "d59a1b2a",
      "metadata": {
        "id": "d59a1b2a"
      },
      "source": [
        "# LEXIC AUGMENTATION"
      ]
    },
    {
      "cell_type": "code",
      "execution_count": 52,
      "id": "76f41b51",
      "metadata": {
        "id": "76f41b51"
      },
      "outputs": [],
      "source": [
        "# Read negative words from file with 'ISO-8859-1' encoding\n",
        "with open('negative-words.txt', 'r', encoding='ISO-8859-1') as file:\n",
        "    negative_words = file.read().splitlines()\n"
      ]
    },
    {
      "cell_type": "code",
      "execution_count": 55,
      "id": "a92c6ee2",
      "metadata": {
        "id": "a92c6ee2"
      },
      "outputs": [],
      "source": [
        "# Initialize an empty list to store dictionaries\n",
        "negative_augmented_data = []\n",
        "\n",
        "# Loop through negative words and append to the list\n",
        "for word in negative_words:\n",
        "    # Exclude \"this product\" from negative words\n",
        "    if \"this product\" not in word:\n",
        "        negative_augmented_data.append({'cleaned_reviewText': word, 'sentiment': 'negative'})\n",
        "\n",
        "# Convert the list of dictionaries to a DataFrame\n",
        "df_negative_augmented = pd.concat([df_negative_augmented, pd.DataFrame(negative_augmented_data)], ignore_index=True)\n"
      ]
    },
    {
      "cell_type": "code",
      "execution_count": 56,
      "id": "8774cb7c",
      "metadata": {
        "id": "8774cb7c"
      },
      "outputs": [],
      "source": [
        "# Concatenate the original and augmented data\n",
        "df_augmented = pd.concat([df[['cleaned_reviewText', 'sentiment']], df_negative_augmented])"
      ]
    },
    {
      "cell_type": "code",
      "execution_count": 57,
      "id": "39c2dcc8",
      "metadata": {
        "id": "39c2dcc8"
      },
      "outputs": [],
      "source": [
        "# Save the augmented data to a new CSV file\n",
        "df_augmented.to_csv('augmented_amazon_reviews.csv', index=False)"
      ]
    },
    {
      "cell_type": "code",
      "execution_count": 58,
      "id": "ac16f028",
      "metadata": {
        "id": "ac16f028"
      },
      "outputs": [],
      "source": [
        "# Load the augmented data\n",
        "df_augmented = pd.read_csv('augmented_amazon_reviews.csv')\n"
      ]
    },
    {
      "cell_type": "code",
      "execution_count": 59,
      "id": "7eaa5e4a",
      "metadata": {
        "colab": {
          "base_uri": "https://localhost:8080/",
          "height": 472
        },
        "id": "7eaa5e4a",
        "outputId": "398f8ae5-e9d6-4d80-80e9-34fb7d732589"
      },
      "outputs": [
        {
          "output_type": "display_data",
          "data": {
            "text/plain": [
              "<Figure size 640x480 with 1 Axes>"
            ],
            "image/png": "[encoded data removed]"
          },
          "metadata": {}
        }
      ],
      "source": [
        "# Visualize class distribution\n",
        "sentiment_counts = df_augmented['sentiment'].value_counts()\n",
        "plt.bar(sentiment_counts.index, sentiment_counts.values, color=['red', 'grey', 'green'])\n",
        "plt.title('Class Distribution')\n",
        "plt.xlabel('Sentiment')\n",
        "plt.ylabel('Count')\n",
        "plt.show()"
      ]
    },
    {
      "cell_type": "markdown",
      "id": "e5e6fcfc",
      "metadata": {
        "id": "e5e6fcfc"
      },
      "source": [
        "# DATA PREPARATION"
      ]
    },
    {
      "cell_type": "code",
      "execution_count": 60,
      "id": "edbcbbbb",
      "metadata": {
        "id": "edbcbbbb"
      },
      "outputs": [],
      "source": [
        "# Split the data into training and testing sets\n",
        "X_train, X_test, y_train, y_test = train_test_split(\n",
        "    df_augmented['cleaned_reviewText'],\n",
        "    df_augmented['sentiment'],\n",
        "    test_size=0.2,\n",
        "    random_state=42\n",
        ")\n"
      ]
    },
    {
      "cell_type": "code",
      "execution_count": 61,
      "id": "55a7989a",
      "metadata": {
        "id": "55a7989a"
      },
      "outputs": [],
      "source": [
        "# Tokenize the text\n",
        "max_words = 10000\n",
        "max_len = 100\n",
        "tokenizer = Tokenizer(num_words=max_words)\n",
        "tokenizer.fit_on_texts(df_augmented['cleaned_reviewText'].fillna('').astype(str))  # Replace NaN with empty string\n",
        "X_train_seq = tokenizer.texts_to_sequences(X_train.fillna('').astype(str))  # Replace NaN with empty string\n",
        "X_test_seq = tokenizer.texts_to_sequences(X_test.fillna('').astype(str))  # Replace NaN with empty string\n"
      ]
    },
    {
      "cell_type": "code",
      "execution_count": 62,
      "id": "4cd0b540-e3e5-466d-a378-c7f0ddbcb424",
      "metadata": {
        "id": "4cd0b540-e3e5-466d-a378-c7f0ddbcb424"
      },
      "outputs": [],
      "source": [
        "import joblib\n",
        "joblib.dump(tokenizer, \"tk2.pkl\")\n",
        "model=joblib.load('tk2.pkl')\n"
      ]
    },
    {
      "cell_type": "code",
      "execution_count": 63,
      "id": "68c8f903",
      "metadata": {
        "id": "68c8f903"
      },
      "outputs": [],
      "source": [
        "# Pad sequences for equal length\n",
        "X_train_pad = pad_sequences(X_train_seq, maxlen=max_len)\n",
        "X_test_pad = pad_sequences(X_test_seq, maxlen=max_len)\n"
      ]
    },
    {
      "cell_type": "code",
      "execution_count": 64,
      "id": "032169ab",
      "metadata": {
        "id": "032169ab"
      },
      "outputs": [],
      "source": [
        "# Convert sentiment labels to numeric\n",
        "le = LabelEncoder()\n",
        "y_train_encoded = le.fit_transform(y_train)\n",
        "y_test_encoded = le.transform(y_test)\n"
      ]
    },
    {
      "cell_type": "code",
      "execution_count": 65,
      "id": "060033a3-ad72-4320-a90f-0d4f4f1b2b83",
      "metadata": {
        "id": "060033a3-ad72-4320-a90f-0d4f4f1b2b83"
      },
      "outputs": [],
      "source": [
        "import joblib\n",
        "joblib.dump(le, \"le2.pkl\")\n",
        "model=joblib.load('le2.pkl')"
      ]
    },
    {
      "cell_type": "code",
      "execution_count": 67,
      "id": "38699c32-168f-4a64-bb41-155c87bdddd8",
      "metadata": {
        "id": "38699c32-168f-4a64-bb41-155c87bdddd8"
      },
      "outputs": [],
      "source": [
        "import pickle\n",
        "with open('labelEncoder.pkl', 'wb') as handle:\n",
        "    pickle.dump(tokenizer, handle, protocol=pickle.HIGHEST_PROTOCOL)\n"
      ]
    },
    {
      "cell_type": "markdown",
      "id": "6f0c0610",
      "metadata": {
        "id": "6f0c0610"
      },
      "source": [
        "# 1D CNN --- LSTM --- BIDIRECTIONAL LSTM MODELS"
      ]
    },
    {
      "cell_type": "code",
      "execution_count": 68,
      "id": "6245a44b",
      "metadata": {
        "colab": {
          "base_uri": "https://localhost:8080/"
        },
        "id": "6245a44b",
        "outputId": "a35e6441-3b4a-4885-f137-9e65f3ee3182"
      },
      "outputs": [
        {
          "output_type": "stream",
          "name": "stdout",
          "text": [
            "Epoch 1/10\n",
            "195/195 [==============================] - 9s 38ms/step - loss: 0.3201 - accuracy: 0.9127 - val_loss: 0.2033 - val_accuracy: 0.9448\n",
            "Epoch 2/10\n",
            "195/195 [==============================] - 6s 32ms/step - loss: 0.1444 - accuracy: 0.9584 - val_loss: 0.1788 - val_accuracy: 0.9506\n",
            "Epoch 3/10\n",
            "195/195 [==============================] - 8s 39ms/step - loss: 0.0854 - accuracy: 0.9758 - val_loss: 0.1714 - val_accuracy: 0.9538\n",
            "Epoch 4/10\n",
            "195/195 [==============================] - 6s 31ms/step - loss: 0.0504 - accuracy: 0.9844 - val_loss: 0.1852 - val_accuracy: 0.9525\n",
            "Epoch 5/10\n",
            "195/195 [==============================] - 8s 41ms/step - loss: 0.0290 - accuracy: 0.9928 - val_loss: 0.1978 - val_accuracy: 0.9544\n",
            "Epoch 6/10\n",
            "195/195 [==============================] - 6s 30ms/step - loss: 0.0170 - accuracy: 0.9966 - val_loss: 0.2215 - val_accuracy: 0.9538\n",
            "Epoch 7/10\n",
            "195/195 [==============================] - 8s 41ms/step - loss: 0.0097 - accuracy: 0.9986 - val_loss: 0.2469 - val_accuracy: 0.9487\n",
            "Epoch 8/10\n",
            "195/195 [==============================] - 6s 32ms/step - loss: 0.0059 - accuracy: 0.9994 - val_loss: 0.2665 - val_accuracy: 0.9538\n",
            "Epoch 9/10\n",
            "195/195 [==============================] - 8s 41ms/step - loss: 0.0044 - accuracy: 0.9995 - val_loss: 0.2687 - val_accuracy: 0.9480\n",
            "Epoch 10/10\n",
            "195/195 [==============================] - 6s 30ms/step - loss: 0.0039 - accuracy: 0.9992 - val_loss: 0.2670 - val_accuracy: 0.9493\n"
          ]
        },
        {
          "output_type": "execute_result",
          "data": {
            "text/plain": [
              "<keras.src.callbacks.History at 0x7e4a76b11810>"
            ]
          },
          "metadata": {},
          "execution_count": 68
        }
      ],
      "source": [
        "# Build and train the 1D CNN model\n",
        "model_cnn = Sequential()\n",
        "model_cnn.add(Embedding(max_words, 64, input_length=max_len))\n",
        "model_cnn.add(Conv1D(128, 5, activation='relu'))\n",
        "model_cnn.add(GlobalMaxPooling1D())\n",
        "model_cnn.add(Dense(3, activation='softmax'))\n",
        "model_cnn.compile(optimizer='adam', loss='sparse_categorical_crossentropy', metrics=['accuracy'])\n",
        "model_cnn.fit(X_train_pad, y_train_encoded, epochs=10, validation_split=0.2)\n"
      ]
    },
    {
      "cell_type": "code",
      "execution_count": 69,
      "id": "d9f1f9bf",
      "metadata": {
        "colab": {
          "base_uri": "https://localhost:8080/"
        },
        "id": "d9f1f9bf",
        "outputId": "29bd816a-41b5-42ee-b72f-9f8943e1c065"
      },
      "outputs": [
        {
          "output_type": "stream",
          "name": "stdout",
          "text": [
            "Epoch 1/10\n",
            "195/195 [==============================] - 38s 183ms/step - loss: 0.2600 - accuracy: 0.9207 - val_loss: 0.1698 - val_accuracy: 0.9442\n",
            "Epoch 2/10\n",
            "195/195 [==============================] - 34s 173ms/step - loss: 0.1144 - accuracy: 0.9660 - val_loss: 0.1787 - val_accuracy: 0.9474\n",
            "Epoch 3/10\n",
            "195/195 [==============================] - 36s 186ms/step - loss: 0.0729 - accuracy: 0.9770 - val_loss: 0.2155 - val_accuracy: 0.9506\n",
            "Epoch 4/10\n",
            "195/195 [==============================] - 33s 171ms/step - loss: 0.0509 - accuracy: 0.9846 - val_loss: 0.2119 - val_accuracy: 0.9422\n",
            "Epoch 5/10\n",
            "195/195 [==============================] - 34s 172ms/step - loss: 0.0299 - accuracy: 0.9921 - val_loss: 0.2342 - val_accuracy: 0.9442\n",
            "Epoch 6/10\n",
            "195/195 [==============================] - 36s 182ms/step - loss: 0.0173 - accuracy: 0.9957 - val_loss: 0.2583 - val_accuracy: 0.9435\n",
            "Epoch 7/10\n",
            "195/195 [==============================] - 34s 173ms/step - loss: 0.0202 - accuracy: 0.9942 - val_loss: 0.2678 - val_accuracy: 0.9397\n",
            "Epoch 8/10\n",
            "195/195 [==============================] - 34s 175ms/step - loss: 0.0134 - accuracy: 0.9965 - val_loss: 0.3144 - val_accuracy: 0.9320\n",
            "Epoch 9/10\n",
            "195/195 [==============================] - 35s 179ms/step - loss: 0.0056 - accuracy: 0.9990 - val_loss: 0.3285 - val_accuracy: 0.9384\n",
            "Epoch 10/10\n",
            "195/195 [==============================] - 34s 173ms/step - loss: 0.0036 - accuracy: 0.9992 - val_loss: 0.3540 - val_accuracy: 0.9320\n"
          ]
        },
        {
          "output_type": "execute_result",
          "data": {
            "text/plain": [
              "<keras.src.callbacks.History at 0x7e4a76c021d0>"
            ]
          },
          "metadata": {},
          "execution_count": 69
        }
      ],
      "source": [
        "# Build and train the LSTM model\n",
        "model_lstm = Sequential()\n",
        "model_lstm.add(Embedding(max_words, 64, input_length=max_len))\n",
        "model_lstm.add(LSTM(128))\n",
        "model_lstm.add(Dense(3, activation='softmax'))\n",
        "model_lstm.compile(optimizer='adam', loss='sparse_categorical_crossentropy', metrics=['accuracy'])\n",
        "model_lstm.fit(X_train_pad, y_train_encoded, epochs=10, validation_split=0.2)\n",
        "\n"
      ]
    },
    {
      "cell_type": "code",
      "execution_count": 70,
      "id": "027e44bf",
      "metadata": {
        "colab": {
          "base_uri": "https://localhost:8080/"
        },
        "id": "027e44bf",
        "outputId": "92b30680-8a7d-4cd9-a04a-9532af57d41b"
      },
      "outputs": [
        {
          "output_type": "stream",
          "name": "stdout",
          "text": [
            "Epoch 1/10\n",
            "195/195 [==============================] - 31s 133ms/step - loss: 0.2650 - accuracy: 0.9229 - val_loss: 0.1725 - val_accuracy: 0.9442\n",
            "Epoch 2/10\n",
            "195/195 [==============================] - 24s 122ms/step - loss: 0.1150 - accuracy: 0.9663 - val_loss: 0.1749 - val_accuracy: 0.9454\n",
            "Epoch 3/10\n",
            "195/195 [==============================] - 26s 132ms/step - loss: 0.0783 - accuracy: 0.9772 - val_loss: 0.1999 - val_accuracy: 0.9390\n",
            "Epoch 4/10\n",
            "195/195 [==============================] - 25s 131ms/step - loss: 0.0497 - accuracy: 0.9838 - val_loss: 0.2536 - val_accuracy: 0.9474\n",
            "Epoch 5/10\n",
            "195/195 [==============================] - 24s 121ms/step - loss: 0.0339 - accuracy: 0.9896 - val_loss: 0.2431 - val_accuracy: 0.9384\n",
            "Epoch 6/10\n",
            "195/195 [==============================] - 26s 131ms/step - loss: 0.0194 - accuracy: 0.9949 - val_loss: 0.2824 - val_accuracy: 0.9300\n",
            "Epoch 7/10\n",
            "195/195 [==============================] - 26s 131ms/step - loss: 0.0101 - accuracy: 0.9982 - val_loss: 0.3015 - val_accuracy: 0.9262\n",
            "Epoch 8/10\n",
            "195/195 [==============================] - 25s 130ms/step - loss: 0.0077 - accuracy: 0.9987 - val_loss: 0.3305 - val_accuracy: 0.9288\n",
            "Epoch 9/10\n",
            "195/195 [==============================] - 24s 121ms/step - loss: 0.0052 - accuracy: 0.9986 - val_loss: 0.3416 - val_accuracy: 0.9198\n",
            "Epoch 10/10\n",
            "195/195 [==============================] - 26s 132ms/step - loss: 0.0035 - accuracy: 0.9995 - val_loss: 0.3673 - val_accuracy: 0.9332\n"
          ]
        },
        {
          "output_type": "execute_result",
          "data": {
            "text/plain": [
              "<keras.src.callbacks.History at 0x7e4a773ad090>"
            ]
          },
          "metadata": {},
          "execution_count": 70
        }
      ],
      "source": [
        "# Build and train the Bidirectional LSTM model\n",
        "model_bidirectional_lstm = Sequential()\n",
        "model_bidirectional_lstm.add(Embedding(max_words, 64, input_length=max_len))\n",
        "model_bidirectional_lstm.add(Bidirectional(LSTM(64)))\n",
        "model_bidirectional_lstm.add(Dense(3, activation='softmax'))\n",
        "model_bidirectional_lstm.compile(optimizer='adam', loss='sparse_categorical_crossentropy', metrics=['accuracy'])\n",
        "model_bidirectional_lstm.fit(X_train_pad, y_train_encoded, epochs=10, validation_split=0.2)\n"
      ]
    },
    {
      "cell_type": "markdown",
      "id": "bbf7f539",
      "metadata": {
        "id": "bbf7f539"
      },
      "source": [
        "# EVALUATION METRICS AND COMPARISON\n"
      ]
    },
    {
      "cell_type": "code",
      "execution_count": 71,
      "id": "a8a001da",
      "metadata": {
        "id": "a8a001da"
      },
      "outputs": [],
      "source": [
        "# Evaluate models\n",
        "def evaluate_model(model, X_test_pad, y_test_encoded):\n",
        "    y_pred = np.argmax(model.predict(X_test_pad), axis=1)\n",
        "    accuracy = np.sum(y_pred == y_test_encoded) / len(y_test_encoded)\n",
        "    print(classification_report(y_test_encoded, y_pred))\n",
        "    print(confusion_matrix(y_test_encoded, y_pred))\n",
        "    return accuracy"
      ]
    },
    {
      "cell_type": "code",
      "execution_count": 72,
      "id": "408b969c",
      "metadata": {
        "colab": {
          "base_uri": "https://localhost:8080/"
        },
        "id": "408b969c",
        "outputId": "94521328-0562-493f-a9aa-9be8eb8b189a"
      },
      "outputs": [
        {
          "output_type": "stream",
          "name": "stdout",
          "text": [
            "1D CNN Model Evaluation:\n",
            "61/61 [==============================] - 1s 8ms/step\n",
            "              precision    recall  f1-score   support\n",
            "\n",
            "           0       0.99      0.96      0.98       991\n",
            "           1       0.00      0.00      0.00        29\n",
            "           2       0.95      0.98      0.97       927\n",
            "\n",
            "    accuracy                           0.96      1947\n",
            "   macro avg       0.64      0.65      0.65      1947\n",
            "weighted avg       0.95      0.96      0.96      1947\n",
            "\n",
            "[[956   8  27]\n",
            " [  5   0  24]\n",
            " [  9   5 913]]\n"
          ]
        },
        {
          "output_type": "execute_result",
          "data": {
            "text/plain": [
              "0.9599383667180277"
            ]
          },
          "metadata": {},
          "execution_count": 72
        }
      ],
      "source": [
        "print(\"1D CNN Model Evaluation:\")\n",
        "evaluate_model(model_cnn, X_test_pad, y_test_encoded)"
      ]
    },
    {
      "cell_type": "code",
      "execution_count": 73,
      "id": "a1a70f40",
      "metadata": {
        "colab": {
          "base_uri": "https://localhost:8080/"
        },
        "id": "a1a70f40",
        "outputId": "4974c5cf-3b99-4ebc-a309-6c685769265f"
      },
      "outputs": [
        {
          "output_type": "stream",
          "name": "stdout",
          "text": [
            "\n",
            "LSTM Model Evaluation:\n",
            "61/61 [==============================] - 5s 62ms/step\n",
            "              precision    recall  f1-score   support\n",
            "\n",
            "           0       0.98      0.96      0.97       991\n",
            "           1       0.04      0.03      0.04        29\n",
            "           2       0.94      0.97      0.95       927\n",
            "\n",
            "    accuracy                           0.95      1947\n",
            "   macro avg       0.65      0.65      0.65      1947\n",
            "weighted avg       0.95      0.95      0.95      1947\n",
            "\n",
            "[[949   5  37]\n",
            " [  4   1  24]\n",
            " [ 13  17 897]]\n"
          ]
        },
        {
          "output_type": "execute_result",
          "data": {
            "text/plain": [
              "0.9486389316897792"
            ]
          },
          "metadata": {},
          "execution_count": 73
        }
      ],
      "source": [
        "print(\"\\nLSTM Model Evaluation:\")\n",
        "evaluate_model(model_lstm, X_test_pad, y_test_encoded)"
      ]
    },
    {
      "cell_type": "code",
      "execution_count": 74,
      "id": "5e0dfdda",
      "metadata": {
        "colab": {
          "base_uri": "https://localhost:8080/"
        },
        "id": "5e0dfdda",
        "outputId": "2d2e7edf-fb45-4c66-c5af-6ba03c4ed42b"
      },
      "outputs": [
        {
          "output_type": "stream",
          "name": "stdout",
          "text": [
            "\n",
            "Bidirectional LSTM Model Evaluation:\n",
            "61/61 [==============================] - 2s 27ms/step\n",
            "              precision    recall  f1-score   support\n",
            "\n",
            "           0       0.98      0.96      0.97       991\n",
            "           1       0.12      0.14      0.13        29\n",
            "           2       0.94      0.96      0.95       927\n",
            "\n",
            "    accuracy                           0.95      1947\n",
            "   macro avg       0.68      0.69      0.69      1947\n",
            "weighted avg       0.95      0.95      0.95      1947\n",
            "\n",
            "[[952   9  30]\n",
            " [  2   4  23]\n",
            " [ 16  19 892]]\n"
          ]
        },
        {
          "output_type": "execute_result",
          "data": {
            "text/plain": [
              "0.9491525423728814"
            ]
          },
          "metadata": {},
          "execution_count": 74
        }
      ],
      "source": [
        "print(\"\\nBidirectional LSTM Model Evaluation:\")\n",
        "evaluate_model(model_bidirectional_lstm, X_test_pad, y_test_encoded)"
      ]
    },
    {
      "cell_type": "code",
      "execution_count": 75,
      "id": "0c66f917",
      "metadata": {
        "colab": {
          "base_uri": "https://localhost:8080/"
        },
        "id": "0c66f917",
        "outputId": "d0d46e54-e073-4f14-b3ed-78270c1d8c33"
      },
      "outputs": [
        {
          "output_type": "stream",
          "name": "stdout",
          "text": [
            "61/61 [==============================] - 0s 8ms/step\n",
            "              precision    recall  f1-score   support\n",
            "\n",
            "           0       0.99      0.96      0.98       991\n",
            "           1       0.00      0.00      0.00        29\n",
            "           2       0.95      0.98      0.97       927\n",
            "\n",
            "    accuracy                           0.96      1947\n",
            "   macro avg       0.64      0.65      0.65      1947\n",
            "weighted avg       0.95      0.96      0.96      1947\n",
            "\n",
            "[[956   8  27]\n",
            " [  5   0  24]\n",
            " [  9   5 913]]\n",
            "61/61 [==============================] - 5s 81ms/step\n",
            "              precision    recall  f1-score   support\n",
            "\n",
            "           0       0.98      0.96      0.97       991\n",
            "           1       0.04      0.03      0.04        29\n",
            "           2       0.94      0.97      0.95       927\n",
            "\n",
            "    accuracy                           0.95      1947\n",
            "   macro avg       0.65      0.65      0.65      1947\n",
            "weighted avg       0.95      0.95      0.95      1947\n",
            "\n",
            "[[949   5  37]\n",
            " [  4   1  24]\n",
            " [ 13  17 897]]\n",
            "61/61 [==============================] - 2s 29ms/step\n",
            "              precision    recall  f1-score   support\n",
            "\n",
            "           0       0.98      0.96      0.97       991\n",
            "           1       0.12      0.14      0.13        29\n",
            "           2       0.94      0.96      0.95       927\n",
            "\n",
            "    accuracy                           0.95      1947\n",
            "   macro avg       0.68      0.69      0.69      1947\n",
            "weighted avg       0.95      0.95      0.95      1947\n",
            "\n",
            "[[952   9  30]\n",
            " [  2   4  23]\n",
            " [ 16  19 892]]\n"
          ]
        }
      ],
      "source": [
        "# Evaluate models\n",
        "accuracy_cnn = evaluate_model(model_cnn, X_test_pad, y_test_encoded)\n",
        "accuracy_lstm = evaluate_model(model_lstm, X_test_pad, y_test_encoded)\n",
        "accuracy_bidirectional_lstm = evaluate_model(model_bidirectional_lstm, X_test_pad, y_test_encoded)"
      ]
    },
    {
      "cell_type": "code",
      "execution_count": 76,
      "id": "30d8e633",
      "metadata": {
        "id": "30d8e633"
      },
      "outputs": [],
      "source": [
        "best_model = max([\n",
        "    (\"1D CNN\", accuracy_cnn),\n",
        "    (\"LSTM\", accuracy_lstm),\n",
        "    (\"Bidirectional LSTM\", accuracy_bidirectional_lstm)\n",
        "], key=lambda x: x[1])"
      ]
    },
    {
      "cell_type": "code",
      "source": [
        "import matplotlib.pyplot as plt\n",
        "\n",
        "# Accuracy of each model\n",
        "accuracies = [accuracy_cnn, accuracy_lstm, accuracy_bidirectional_lstm]\n",
        "models = ['1D CNN', 'LSTM', 'Bidirectional LSTM']\n",
        "# Plotting\n",
        "plt.figure(figsize=(10, 6))\n",
        "bars = plt.barh(models, accuracies, color=['blue', 'green', 'orange'])\n",
        "# Add text annotations to display the accuracy on each bar with four decimal places\n",
        "for bar, accuracy in zip(bars, accuracies):\n",
        "    plt.text(bar.get_width() + 0.0005, bar.get_y() + bar.get_height() / 2,\n",
        "             f'{accuracy:.4f}', ha='center', va='center', color='black', fontsize=12)\n",
        "\n",
        "plt.title('Model Comparison')\n",
        "plt.xlabel('Accuracy')\n",
        "plt.ylabel('Model')\n",
        "plt.xlim(0.88, 0.97)  # Adjust x-axis limit to show differences more clearly\n",
        "plt.grid(True, axis='x', linestyle='--', alpha=0.7)\n",
        "plt.show()"
      ],
      "metadata": {
        "colab": {
          "base_uri": "https://localhost:8080/",
          "height": 564
        },
        "id": "M_bnvV58LCqW",
        "outputId": "bd16d4a0-13c0-4abb-e754-11c2d342e685"
      },
      "id": "M_bnvV58LCqW",
      "execution_count": 102,
      "outputs": [
        {
          "output_type": "display_data",
          "data": {
            "text/plain": [
              "<Figure size 1000x600 with 1 Axes>"
            ],
            "image/png": "[encoded data removed]"
          },
          "metadata": {}
        }
      ]
    },
    {
      "cell_type": "code",
      "execution_count": 77,
      "id": "12df32c1",
      "metadata": {
        "colab": {
          "base_uri": "https://localhost:8080/"
        },
        "id": "12df32c1",
        "outputId": "eeb22ff5-ec2f-4ab7-959b-1a955ab98fce"
      },
      "outputs": [
        {
          "output_type": "stream",
          "name": "stdout",
          "text": [
            "\n",
            "The best model is 1D CNN with an accuracy of 95.99%.\n"
          ]
        }
      ],
      "source": [
        "print(f\"\\nThe best model is {best_model[0]} with an accuracy of {best_model[1]:.2%}.\")"
      ]
    },
    {
      "cell_type": "code",
      "source": [
        "# Early stopping callback\n",
        "from tensorflow.keras.callbacks import EarlyStopping\n",
        "early_stopping = EarlyStopping(monitor='val_loss', patience=3, restore_best_weights=True)\n",
        "\n",
        "def build_cnn_model(hp):\n",
        "    model = Sequential()\n",
        "    model.add(Embedding(max_words, hp.Choice('embedding_dim', [32, 64, 128]), input_length=max_len))\n",
        "    model.add(Conv1D(hp.Choice('filters', [32, 64, 128]), hp.Choice('kernel_size', [3, 5]), activation='relu'))\n",
        "    model.add(GlobalMaxPooling1D())\n",
        "    model.add(Dense(3, activation='softmax'))\n",
        "    model.compile(optimizer='adam', loss='sparse_categorical_crossentropy', metrics=['accuracy'])\n",
        "    return model\n",
        "\n",
        "tuner_cnn = kt.Hyperband(\n",
        "    build_cnn_model,\n",
        "    objective='val_accuracy',\n",
        "    max_epochs=10,\n",
        "    factor=3,\n",
        "    directory='my_dir',\n",
        "    project_name='cnn_tuning'\n",
        ")\n",
        "\n",
        "tuner_cnn.search(X_train_pad, y_train_encoded, epochs=5, validation_split=0.2, callbacks=[early_stopping])\n",
        "best_cnn_model = tuner_cnn.get_best_models(num_models=1)[0]\n",
        "best_cnn_model.summary()"
      ],
      "metadata": {
        "colab": {
          "base_uri": "https://localhost:8080/"
        },
        "id": "AtxY9ZCJMjxD",
        "outputId": "3af08760-5bba-42ef-b851-f73bf4657ec2"
      },
      "id": "AtxY9ZCJMjxD",
      "execution_count": 106,
      "outputs": [
        {
          "output_type": "stream",
          "name": "stdout",
          "text": [
            "Trial 60 Complete [00h 00m 29s]\n",
            "val_accuracy: 0.9512194991111755\n",
            "\n",
            "Best val_accuracy So Far: 0.9576380252838135\n",
            "Total elapsed time: 00h 33m 46s\n",
            "Model: \"sequential\"\n",
            "_________________________________________________________________\n",
            " Layer (type)                Output Shape              Param #   \n",
            "=================================================================\n",
            " embedding (Embedding)       (None, 100, 128)          1280000   \n",
            "                                                                 \n",
            " conv1d (Conv1D)             (None, 96, 32)            20512     \n",
            "                                                                 \n",
            " global_max_pooling1d (Glob  (None, 32)                0         \n",
            " alMaxPooling1D)                                                 \n",
            "                                                                 \n",
            " dense (Dense)               (None, 3)                 99        \n",
            "                                                                 \n",
            "=================================================================\n",
            "Total params: 1300611 (4.96 MB)\n",
            "Trainable params: 1300611 (4.96 MB)\n",
            "Non-trainable params: 0 (0.00 Byte)\n",
            "_________________________________________________________________\n"
          ]
        }
      ]
    },
    {
      "cell_type": "code",
      "source": [
        "def build_lstm_model(hp):\n",
        "    model = Sequential()\n",
        "    model.add(Embedding(max_words, hp.Int('embedding_dim', min_value=32, max_value=128, step=32), input_length=max_len))\n",
        "    model.add(LSTM(hp.Int('units', min_value=32, max_value=128, step=32)))\n",
        "    model.add(Dense(3, activation='softmax'))\n",
        "    model.compile(optimizer='adam', loss='sparse_categorical_crossentropy', metrics=['accuracy'])\n",
        "    return model\n",
        "\n",
        "tuner_lstm = kt.Hyperband(\n",
        "    build_lstm_model,\n",
        "    objective='val_accuracy',\n",
        "    max_epochs=10,\n",
        "    hyperband_iterations=2,\n",
        "    directory='my_dir',\n",
        "    project_name='lstm_tuning'\n",
        ")\n",
        "\n",
        "tuner_lstm.search(X_train_pad, y_train_encoded, epochs=10, validation_split=0.2)\n",
        "best_lstm_model = tuner_lstm.get_best_models(num_models=1)[0]\n",
        "\n",
        "best_lstm_model.summary()"
      ],
      "metadata": {
        "colab": {
          "base_uri": "https://localhost:8080/"
        },
        "id": "q0qTW5C2Mjzj",
        "outputId": "a0b5a78e-f9f0-4e34-8367-fbe971f681da"
      },
      "id": "q0qTW5C2Mjzj",
      "execution_count": 107,
      "outputs": [
        {
          "output_type": "stream",
          "name": "stdout",
          "text": [
            "Trial 22 Complete [00h 03m 09s]\n",
            "val_accuracy: 0.9505776762962341\n",
            "\n",
            "Best val_accuracy So Far: 0.9518613815307617\n",
            "Total elapsed time: 00h 29m 05s\n",
            "Model: \"sequential\"\n",
            "_________________________________________________________________\n",
            " Layer (type)                Output Shape              Param #   \n",
            "=================================================================\n",
            " embedding (Embedding)       (None, 100, 64)           640000    \n",
            "                                                                 \n",
            " lstm (LSTM)                 (None, 64)                33024     \n",
            "                                                                 \n",
            " dense (Dense)               (None, 3)                 195       \n",
            "                                                                 \n",
            "=================================================================\n",
            "Total params: 673219 (2.57 MB)\n",
            "Trainable params: 673219 (2.57 MB)\n",
            "Non-trainable params: 0 (0.00 Byte)\n",
            "_________________________________________________________________\n"
          ]
        }
      ]
    },
    {
      "cell_type": "code",
      "source": [
        "from tensorflow.keras.layers import Bidirectional\n",
        "\n",
        "def build_bidirectional_lstm_model(hp):\n",
        "    model = Sequential()\n",
        "    model.add(Embedding(max_words, hp.Int('embedding_dim', min_value=32, max_value=128, step=32), input_length=max_len))\n",
        "    model.add(Bidirectional(LSTM(hp.Int('units', min_value=32, max_value=128, step=32))))\n",
        "    model.add(Dense(3, activation='softmax'))\n",
        "    model.compile(optimizer='adam', loss='sparse_categorical_crossentropy', metrics=['accuracy'])\n",
        "    return model\n",
        "\n",
        "tuner_bidirectional_lstm = kt.Hyperband(\n",
        "    build_bidirectional_lstm_model,\n",
        "    objective='val_accuracy',\n",
        "    max_epochs=10,\n",
        "    hyperband_iterations=2,\n",
        "    directory='my_dir',\n",
        "    project_name='bidirectional_lstm_tuning'\n",
        ")\n",
        "\n",
        "tuner_bidirectional_lstm.search(X_train_pad, y_train_encoded, epochs=10, validation_split=0.2)\n",
        "best_bidirectional_lstm_model = tuner_bidirectional_lstm.get_best_models(num_models=1)[0]\n",
        "\n",
        "best_bidirectional_lstm_model.summary()\n"
      ],
      "metadata": {
        "colab": {
          "base_uri": "https://localhost:8080/"
        },
        "id": "W1070w_MMj2C",
        "outputId": "ac0125bc-c127-4c92-99f6-e7efb1455d3c"
      },
      "id": "W1070w_MMj2C",
      "execution_count": 108,
      "outputs": [
        {
          "output_type": "stream",
          "name": "stdout",
          "text": [
            "Trial 22 Complete [00h 04m 27s]\n",
            "val_accuracy: 0.948010265827179\n",
            "\n",
            "Best val_accuracy So Far: 0.9525032043457031\n",
            "Total elapsed time: 00h 44m 03s\n",
            "Model: \"sequential\"\n",
            "_________________________________________________________________\n",
            " Layer (type)                Output Shape              Param #   \n",
            "=================================================================\n",
            " embedding (Embedding)       (None, 100, 32)           320000    \n",
            "                                                                 \n",
            " bidirectional (Bidirection  (None, 64)                16640     \n",
            " al)                                                             \n",
            "                                                                 \n",
            " dense (Dense)               (None, 3)                 195       \n",
            "                                                                 \n",
            "=================================================================\n",
            "Total params: 336835 (1.28 MB)\n",
            "Trainable params: 336835 (1.28 MB)\n",
            "Non-trainable params: 0 (0.00 Byte)\n",
            "_________________________________________________________________\n"
          ]
        }
      ]
    },
    {
      "cell_type": "code",
      "source": [
        "# Evaluate models\n",
        "def evaluate_model(model, X_test_pad, y_test_encoded):\n",
        "    y_pred = np.argmax(model.predict(X_test_pad), axis=1)\n",
        "    accuracy = np.sum(y_pred == y_test_encoded) / len(y_test_encoded)\n",
        "    print(classification_report(y_test_encoded, y_pred))\n",
        "    print(confusion_matrix(y_test_encoded, y_pred))\n",
        "    return accuracy\n",
        "\n",
        "print(\"Best 1D CNN Model Evaluation:\")\n",
        "accuracy_cnn = evaluate_model(best_cnn_model, X_test_pad, y_test_encoded)\n",
        "\n",
        "print(\"\\nBest LSTM Model Evaluation:\")\n",
        "accuracy_lstm = evaluate_model(best_lstm_model, X_test_pad, y_test_encoded)\n",
        "\n",
        "print(\"\\nBest Bidirectional LSTM Model Evaluation:\")\n",
        "accuracy_bidirectional_lstm = evaluate_model(best_bidirectional_lstm_model, X_test_pad, y_test_encoded)\n"
      ],
      "metadata": {
        "colab": {
          "base_uri": "https://localhost:8080/"
        },
        "id": "4xirWafwMj4a",
        "outputId": "8348404a-2811-4c8c-faa4-26c9d308cb7c"
      },
      "id": "4xirWafwMj4a",
      "execution_count": 109,
      "outputs": [
        {
          "output_type": "stream",
          "name": "stdout",
          "text": [
            "Best 1D CNN Model Evaluation:\n",
            "61/61 [==============================] - 0s 5ms/step\n",
            "              precision    recall  f1-score   support\n",
            "\n",
            "           0       0.98      0.97      0.98       991\n",
            "           1       0.33      0.03      0.06        29\n",
            "           2       0.95      0.99      0.97       927\n",
            "\n",
            "    accuracy                           0.97      1947\n",
            "   macro avg       0.76      0.66      0.67      1947\n",
            "weighted avg       0.96      0.97      0.96      1947\n",
            "\n",
            "[[962   2  27]\n",
            " [  6   1  22]\n",
            " [ 11   0 916]]\n",
            "\n",
            "Best LSTM Model Evaluation:\n",
            "61/61 [==============================] - 2s 18ms/step\n",
            "              precision    recall  f1-score   support\n",
            "\n",
            "           0       0.98      0.96      0.97       991\n",
            "           1       0.00      0.00      0.00        29\n",
            "           2       0.94      0.98      0.96       927\n",
            "\n",
            "    accuracy                           0.96      1947\n",
            "   macro avg       0.64      0.65      0.64      1947\n",
            "weighted avg       0.94      0.96      0.95      1947\n",
            "\n",
            "[[953   1  37]\n",
            " [  3   0  26]\n",
            " [ 15   0 912]]\n",
            "\n",
            "Best Bidirectional LSTM Model Evaluation:\n",
            "61/61 [==============================] - 2s 20ms/step\n",
            "              precision    recall  f1-score   support\n",
            "\n",
            "           0       0.99      0.96      0.97       991\n",
            "           1       0.00      0.00      0.00        29\n",
            "           2       0.93      0.99      0.96       927\n",
            "\n",
            "    accuracy                           0.96      1947\n",
            "   macro avg       0.64      0.65      0.64      1947\n",
            "weighted avg       0.95      0.96      0.95      1947\n",
            "\n",
            "[[950   0  41]\n",
            " [  2   0  27]\n",
            " [ 10   0 917]]\n"
          ]
        },
        {
          "output_type": "stream",
          "name": "stderr",
          "text": [
            "/usr/local/lib/python3.10/dist-packages/sklearn/metrics/_classification.py:1344: UndefinedMetricWarning: Precision and F-score are ill-defined and being set to 0.0 in labels with no predicted samples. Use `zero_division` parameter to control this behavior.\n",
            "  _warn_prf(average, modifier, msg_start, len(result))\n",
            "/usr/local/lib/python3.10/dist-packages/sklearn/metrics/_classification.py:1344: UndefinedMetricWarning: Precision and F-score are ill-defined and being set to 0.0 in labels with no predicted samples. Use `zero_division` parameter to control this behavior.\n",
            "  _warn_prf(average, modifier, msg_start, len(result))\n",
            "/usr/local/lib/python3.10/dist-packages/sklearn/metrics/_classification.py:1344: UndefinedMetricWarning: Precision and F-score are ill-defined and being set to 0.0 in labels with no predicted samples. Use `zero_division` parameter to control this behavior.\n",
            "  _warn_prf(average, modifier, msg_start, len(result))\n"
          ]
        }
      ]
    },
    {
      "cell_type": "code",
      "source": [
        "\n",
        "best_model = max([\n",
        "    (\"1D CNN\", accuracy_cnn),\n",
        "    (\"LSTM\", accuracy_lstm),\n",
        "    (\"Bidirectional LSTM\", accuracy_bidirectional_lstm)\n",
        "], key=lambda x: x[1])\n",
        "\n",
        "print(f\"\\nThe best model is {best_model[0]} with an accuracy of {best_model[1]:.2%}.\")"
      ],
      "metadata": {
        "colab": {
          "base_uri": "https://localhost:8080/"
        },
        "id": "iIgXruaQMj6s",
        "outputId": "a7ceed23-adce-4694-bab8-0591dd0ff6ca"
      },
      "id": "iIgXruaQMj6s",
      "execution_count": 111,
      "outputs": [
        {
          "output_type": "stream",
          "name": "stdout",
          "text": [
            "\n",
            "The best model is 1D CNN with an accuracy of 96.51%.\n"
          ]
        }
      ]
    },
    {
      "cell_type": "code",
      "source": [
        "# Visualization\n",
        "models = ['1D CNN', 'LSTM', 'Bidirectional LSTM']\n",
        "accuracies = [accuracy_cnn, accuracy_lstm, accuracy_bidirectional_lstm]\n",
        "\n",
        "plt.figure(figsize=(10, 6))\n",
        "plt.bar(models, accuracies, color=['blue', 'green', 'red'])\n",
        "plt.xlabel('Model')\n",
        "plt.ylabel('Accuracy')\n",
        "plt.title('Model Comparison after Hyper-parameter-tuning with Keras Tuner')\n",
        "plt.ylim(0.90, 1.00)  # Set y-axis limits to better show differences in accuracy\n",
        "for i, v in enumerate(accuracies):\n",
        "    plt.text(i, v, f\"{v:.4f}\", ha='center', va='bottom')\n",
        "plt.show()"
      ],
      "metadata": {
        "colab": {
          "base_uri": "https://localhost:8080/",
          "height": 564
        },
        "id": "e1SsAp6mMj-w",
        "outputId": "0c5a1a5b-3e7d-4450-c42e-487c4ff720c0"
      },
      "id": "e1SsAp6mMj-w",
      "execution_count": 113,
      "outputs": [
        {
          "output_type": "display_data",
          "data": {
            "text/plain": [
              "<Figure size 1000x600 with 1 Axes>"
            ],
            "image/png": "[encoded data removed]"
          },
          "metadata": {}
        }
      ]
    },
    {
      "cell_type": "code",
      "source": [],
      "metadata": {
        "id": "NXaBT2MhMkBG"
      },
      "id": "NXaBT2MhMkBG",
      "execution_count": null,
      "outputs": []
    },
    {
      "cell_type": "markdown",
      "id": "666fd21b",
      "metadata": {
        "id": "666fd21b"
      },
      "source": [
        "# CNN MODEL TESTING"
      ]
    },
    {
      "cell_type": "code",
      "execution_count": 78,
      "id": "502623f7",
      "metadata": {
        "colab": {
          "base_uri": "https://localhost:8080/"
        },
        "id": "502623f7",
        "outputId": "1b6e8627-0eab-40c6-c781-91a618659c26"
      },
      "outputs": [
        {
          "output_type": "stream",
          "name": "stdout",
          "text": [
            "1/1 [==============================] - 0s 32ms/step\n"
          ]
        }
      ],
      "source": [
        "custom_comment = \" this product doesnt work as expected\"\n",
        "custom_comment_seq = tokenizer.texts_to_sequences([custom_comment])\n",
        "custom_comment_pad = pad_sequences(custom_comment_seq, maxlen=max_len)\n",
        "prediction = model_cnn.predict(custom_comment_pad)\n"
      ]
    },
    {
      "cell_type": "code",
      "execution_count": 79,
      "id": "b4d3b893",
      "metadata": {
        "colab": {
          "base_uri": "https://localhost:8080/"
        },
        "id": "b4d3b893",
        "outputId": "c48b0694-87d6-469f-82da-72f12dbe9d92"
      },
      "outputs": [
        {
          "output_type": "stream",
          "name": "stdout",
          "text": [
            "Predicted Sentiment: negative\n"
          ]
        }
      ],
      "source": [
        "predicted_sentiment = le.classes_[np.argmax(prediction)]\n",
        "print(f'Predicted Sentiment: {predicted_sentiment}')"
      ]
    },
    {
      "cell_type": "code",
      "execution_count": 80,
      "id": "9aef7bbf",
      "metadata": {
        "id": "9aef7bbf"
      },
      "outputs": [],
      "source": [
        "model_cnn.save('model_CNN.keras')"
      ]
    },
    {
      "cell_type": "code",
      "execution_count": 81,
      "id": "c8340964",
      "metadata": {
        "id": "c8340964"
      },
      "outputs": [],
      "source": [
        "import joblib\n",
        "joblib.dump(model_cnn, \"cnnv2.pkl\")\n",
        "model=joblib.load('cnnv2.pkl')\n"
      ]
    },
    {
      "cell_type": "code",
      "execution_count": 82,
      "id": "da2e4c64-bd18-472a-bccc-918cc21e9914",
      "metadata": {
        "colab": {
          "base_uri": "https://localhost:8080/"
        },
        "id": "da2e4c64-bd18-472a-bccc-918cc21e9914",
        "outputId": "682c74de-cbd8-48f6-8330-ecd97233c547"
      },
      "outputs": [
        {
          "output_type": "stream",
          "name": "stdout",
          "text": [
            "1/1 [==============================] - 0s 71ms/step\n"
          ]
        }
      ],
      "source": [
        "custom_comment = \" this product doesnt work properly\"\n",
        "custom_comment_seq = tokenizer.texts_to_sequences([custom_comment])\n",
        "custom_comment_pad = pad_sequences(custom_comment_seq, maxlen=max_len)\n",
        "prediction = model.predict(custom_comment_pad)"
      ]
    },
    {
      "cell_type": "code",
      "execution_count": 83,
      "id": "5e744ba0-ff15-4c14-b730-97222aedfdc4",
      "metadata": {
        "colab": {
          "base_uri": "https://localhost:8080/"
        },
        "id": "5e744ba0-ff15-4c14-b730-97222aedfdc4",
        "outputId": "f9c75d3a-febb-4da2-c647-ada50ab52d5a"
      },
      "outputs": [
        {
          "output_type": "stream",
          "name": "stdout",
          "text": [
            "Predicted Sentiment: negative\n"
          ]
        }
      ],
      "source": [
        "predicted_sentiment = le.classes_[np.argmax(prediction)]\n",
        "print(f'Predicted Sentiment: {predicted_sentiment}')"
      ]
    },
    {
      "cell_type": "code",
      "execution_count": 87,
      "id": "3561790d-abae-41f5-963b-5f3d94cf9a63",
      "metadata": {
        "id": "3561790d-abae-41f5-963b-5f3d94cf9a63"
      },
      "outputs": [],
      "source": [
        "model=joblib.load('cnnv2.pkl')\n"
      ]
    }
  ],
  "metadata": {
    "kernelspec": {
      "display_name": "Python 3 (ipykernel)",
      "language": "python",
      "name": "python3"
    },
    "language_info": {
      "codemirror_mode": {
        "name": "ipython",
        "version": 3
      },
      "file_extension": ".py",
      "mimetype": "text/x-python",
      "name": "python",
      "nbconvert_exporter": "python",
      "pygments_lexer": "ipython3",
      "version": "3.10.0"
    },
    "colab": {
      "provenance": []
    }
  },
  "nbformat": 4,
  "nbformat_minor": 5
}